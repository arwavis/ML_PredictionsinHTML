{
 "cells": [
  {
   "cell_type": "markdown",
   "id": "f20d5c20-1ea2-433a-bd79-e181d3da37f9",
   "metadata": {},
   "source": [
    "# Importing Libraries"
   ]
  },
  {
   "cell_type": "code",
   "execution_count": 1,
   "id": "1b71bc6e-974f-4f24-beaa-2758e69770be",
   "metadata": {},
   "outputs": [],
   "source": [
    "import numpy as np\n",
    "import pandas as pd\n"
   ]
  },
  {
   "cell_type": "code",
   "execution_count": 3,
   "id": "7822d490-8e50-427a-a6a4-801ea63b264b",
   "metadata": {},
   "outputs": [
    {
     "data": {
      "text/html": [
       "<div>\n",
       "<style scoped>\n",
       "    .dataframe tbody tr th:only-of-type {\n",
       "        vertical-align: middle;\n",
       "    }\n",
       "\n",
       "    .dataframe tbody tr th {\n",
       "        vertical-align: top;\n",
       "    }\n",
       "\n",
       "    .dataframe thead th {\n",
       "        text-align: right;\n",
       "    }\n",
       "</style>\n",
       "<table border=\"1\" class=\"dataframe\">\n",
       "  <thead>\n",
       "    <tr style=\"text-align: right;\">\n",
       "      <th></th>\n",
       "      <th>age</th>\n",
       "      <th>sex</th>\n",
       "      <th>cp</th>\n",
       "      <th>trtbps</th>\n",
       "      <th>chol</th>\n",
       "      <th>fbs</th>\n",
       "      <th>restecg</th>\n",
       "      <th>thalachh</th>\n",
       "      <th>exng</th>\n",
       "      <th>oldpeak</th>\n",
       "      <th>slp</th>\n",
       "      <th>caa</th>\n",
       "      <th>thall</th>\n",
       "      <th>output</th>\n",
       "    </tr>\n",
       "  </thead>\n",
       "  <tbody>\n",
       "    <tr>\n",
       "      <th>0</th>\n",
       "      <td>63</td>\n",
       "      <td>1</td>\n",
       "      <td>3</td>\n",
       "      <td>145</td>\n",
       "      <td>233</td>\n",
       "      <td>1</td>\n",
       "      <td>0</td>\n",
       "      <td>150</td>\n",
       "      <td>0</td>\n",
       "      <td>2.3</td>\n",
       "      <td>0</td>\n",
       "      <td>0</td>\n",
       "      <td>1</td>\n",
       "      <td>1</td>\n",
       "    </tr>\n",
       "    <tr>\n",
       "      <th>1</th>\n",
       "      <td>37</td>\n",
       "      <td>1</td>\n",
       "      <td>2</td>\n",
       "      <td>130</td>\n",
       "      <td>250</td>\n",
       "      <td>0</td>\n",
       "      <td>1</td>\n",
       "      <td>187</td>\n",
       "      <td>0</td>\n",
       "      <td>3.5</td>\n",
       "      <td>0</td>\n",
       "      <td>0</td>\n",
       "      <td>2</td>\n",
       "      <td>1</td>\n",
       "    </tr>\n",
       "    <tr>\n",
       "      <th>2</th>\n",
       "      <td>41</td>\n",
       "      <td>0</td>\n",
       "      <td>1</td>\n",
       "      <td>130</td>\n",
       "      <td>204</td>\n",
       "      <td>0</td>\n",
       "      <td>0</td>\n",
       "      <td>172</td>\n",
       "      <td>0</td>\n",
       "      <td>1.4</td>\n",
       "      <td>2</td>\n",
       "      <td>0</td>\n",
       "      <td>2</td>\n",
       "      <td>1</td>\n",
       "    </tr>\n",
       "    <tr>\n",
       "      <th>3</th>\n",
       "      <td>56</td>\n",
       "      <td>1</td>\n",
       "      <td>1</td>\n",
       "      <td>120</td>\n",
       "      <td>236</td>\n",
       "      <td>0</td>\n",
       "      <td>1</td>\n",
       "      <td>178</td>\n",
       "      <td>0</td>\n",
       "      <td>0.8</td>\n",
       "      <td>2</td>\n",
       "      <td>0</td>\n",
       "      <td>2</td>\n",
       "      <td>1</td>\n",
       "    </tr>\n",
       "    <tr>\n",
       "      <th>4</th>\n",
       "      <td>57</td>\n",
       "      <td>0</td>\n",
       "      <td>0</td>\n",
       "      <td>120</td>\n",
       "      <td>354</td>\n",
       "      <td>0</td>\n",
       "      <td>1</td>\n",
       "      <td>163</td>\n",
       "      <td>1</td>\n",
       "      <td>0.6</td>\n",
       "      <td>2</td>\n",
       "      <td>0</td>\n",
       "      <td>2</td>\n",
       "      <td>1</td>\n",
       "    </tr>\n",
       "    <tr>\n",
       "      <th>...</th>\n",
       "      <td>...</td>\n",
       "      <td>...</td>\n",
       "      <td>...</td>\n",
       "      <td>...</td>\n",
       "      <td>...</td>\n",
       "      <td>...</td>\n",
       "      <td>...</td>\n",
       "      <td>...</td>\n",
       "      <td>...</td>\n",
       "      <td>...</td>\n",
       "      <td>...</td>\n",
       "      <td>...</td>\n",
       "      <td>...</td>\n",
       "      <td>...</td>\n",
       "    </tr>\n",
       "    <tr>\n",
       "      <th>298</th>\n",
       "      <td>57</td>\n",
       "      <td>0</td>\n",
       "      <td>0</td>\n",
       "      <td>140</td>\n",
       "      <td>241</td>\n",
       "      <td>0</td>\n",
       "      <td>1</td>\n",
       "      <td>123</td>\n",
       "      <td>1</td>\n",
       "      <td>0.2</td>\n",
       "      <td>1</td>\n",
       "      <td>0</td>\n",
       "      <td>3</td>\n",
       "      <td>0</td>\n",
       "    </tr>\n",
       "    <tr>\n",
       "      <th>299</th>\n",
       "      <td>45</td>\n",
       "      <td>1</td>\n",
       "      <td>3</td>\n",
       "      <td>110</td>\n",
       "      <td>264</td>\n",
       "      <td>0</td>\n",
       "      <td>1</td>\n",
       "      <td>132</td>\n",
       "      <td>0</td>\n",
       "      <td>1.2</td>\n",
       "      <td>1</td>\n",
       "      <td>0</td>\n",
       "      <td>3</td>\n",
       "      <td>0</td>\n",
       "    </tr>\n",
       "    <tr>\n",
       "      <th>300</th>\n",
       "      <td>68</td>\n",
       "      <td>1</td>\n",
       "      <td>0</td>\n",
       "      <td>144</td>\n",
       "      <td>193</td>\n",
       "      <td>1</td>\n",
       "      <td>1</td>\n",
       "      <td>141</td>\n",
       "      <td>0</td>\n",
       "      <td>3.4</td>\n",
       "      <td>1</td>\n",
       "      <td>2</td>\n",
       "      <td>3</td>\n",
       "      <td>0</td>\n",
       "    </tr>\n",
       "    <tr>\n",
       "      <th>301</th>\n",
       "      <td>57</td>\n",
       "      <td>1</td>\n",
       "      <td>0</td>\n",
       "      <td>130</td>\n",
       "      <td>131</td>\n",
       "      <td>0</td>\n",
       "      <td>1</td>\n",
       "      <td>115</td>\n",
       "      <td>1</td>\n",
       "      <td>1.2</td>\n",
       "      <td>1</td>\n",
       "      <td>1</td>\n",
       "      <td>3</td>\n",
       "      <td>0</td>\n",
       "    </tr>\n",
       "    <tr>\n",
       "      <th>302</th>\n",
       "      <td>57</td>\n",
       "      <td>0</td>\n",
       "      <td>1</td>\n",
       "      <td>130</td>\n",
       "      <td>236</td>\n",
       "      <td>0</td>\n",
       "      <td>0</td>\n",
       "      <td>174</td>\n",
       "      <td>0</td>\n",
       "      <td>0.0</td>\n",
       "      <td>1</td>\n",
       "      <td>1</td>\n",
       "      <td>2</td>\n",
       "      <td>0</td>\n",
       "    </tr>\n",
       "  </tbody>\n",
       "</table>\n",
       "<p>303 rows × 14 columns</p>\n",
       "</div>"
      ],
      "text/plain": [
       "     age  sex  cp  trtbps  chol  fbs  restecg  thalachh  exng  oldpeak  slp  \\\n",
       "0     63    1   3     145   233    1        0       150     0      2.3    0   \n",
       "1     37    1   2     130   250    0        1       187     0      3.5    0   \n",
       "2     41    0   1     130   204    0        0       172     0      1.4    2   \n",
       "3     56    1   1     120   236    0        1       178     0      0.8    2   \n",
       "4     57    0   0     120   354    0        1       163     1      0.6    2   \n",
       "..   ...  ...  ..     ...   ...  ...      ...       ...   ...      ...  ...   \n",
       "298   57    0   0     140   241    0        1       123     1      0.2    1   \n",
       "299   45    1   3     110   264    0        1       132     0      1.2    1   \n",
       "300   68    1   0     144   193    1        1       141     0      3.4    1   \n",
       "301   57    1   0     130   131    0        1       115     1      1.2    1   \n",
       "302   57    0   1     130   236    0        0       174     0      0.0    1   \n",
       "\n",
       "     caa  thall  output  \n",
       "0      0      1       1  \n",
       "1      0      2       1  \n",
       "2      0      2       1  \n",
       "3      0      2       1  \n",
       "4      0      2       1  \n",
       "..   ...    ...     ...  \n",
       "298    0      3       0  \n",
       "299    0      3       0  \n",
       "300    2      3       0  \n",
       "301    1      3       0  \n",
       "302    1      2       0  \n",
       "\n",
       "[303 rows x 14 columns]"
      ]
     },
     "execution_count": 3,
     "metadata": {},
     "output_type": "execute_result"
    }
   ],
   "source": [
    "data=pd.read_csv(r\"../heart.csv\")\n",
    "data"
   ]
  },
  {
   "cell_type": "markdown",
   "id": "f2ac9730-4a50-450c-b43f-13ab6af94f1a",
   "metadata": {
    "tags": []
   },
   "source": [
    "### Data Categorization\n",
    "\n"
   ]
  },
  {
   "cell_type": "code",
   "execution_count": null,
   "id": "5676eed2-214a-4388-a18d-14f3995ef08f",
   "metadata": {},
   "outputs": [],
   "source": [
    "data.info()#basic idea that we get from the data"
   ]
  },
  {
   "cell_type": "code",
   "execution_count": null,
   "id": "b3bc227a-10c0-4dc7-8691-f5aadfb1636b",
   "metadata": {},
   "outputs": [],
   "source": [
    "data.describe()#statistical analysis"
   ]
  },
  {
   "cell_type": "markdown",
   "id": "cce27359-a336-4545-ae37-05a796b83b9d",
   "metadata": {},
   "source": [
    "### Dividing the Dataset into Depedent and Independent Columns"
   ]
  },
  {
   "cell_type": "code",
   "execution_count": null,
   "id": "605ce04e-3e36-4a32-a889-128f78d2f1c4",
   "metadata": {},
   "outputs": [],
   "source": [
    "X=data.drop(['output'],axis=1) #independent features from the dataset\n",
    "y=data['output'] #dependent column from the dataset\n",
    "X"
   ]
  },
  {
   "cell_type": "code",
   "execution_count": null,
   "id": "69a19d62-f80a-4b63-8024-ff5f800c48cf",
   "metadata": {},
   "outputs": [],
   "source": [
    "y"
   ]
  },
  {
   "cell_type": "markdown",
   "id": "78725799-8d85-48fb-963d-786ca1840e2a",
   "metadata": {},
   "source": [
    "### Splitting the dataset into training and testing set\n",
    "#### 20% of the dataset will be used for testing(evaluation) and 80% of the data will be used for training purposes"
   ]
  },
  {
   "cell_type": "code",
   "execution_count": null,
   "id": "3efed6f5-ea52-4500-abc0-8ca86290f37a",
   "metadata": {},
   "outputs": [],
   "source": [
    "from sklearn.model_selection import train_test_split\n",
    "X_train,X_test,y_train,y_test=train_test_split(X,y,test_size=0.2, random_state=42)"
   ]
  },
  {
   "cell_type": "markdown",
   "id": "8fa3af69-aaee-409f-a03a-48b539f97557",
   "metadata": {},
   "source": [
    "### Logistic Regression Algorithm"
   ]
  },
  {
   "cell_type": "code",
   "execution_count": null,
   "id": "7f52865d-6b25-48cc-92c2-2acac8a670dd",
   "metadata": {},
   "outputs": [],
   "source": [
    "from sklearn.linear_model import LogisticRegression\n",
    "logmodel=LogisticRegression()"
   ]
  },
  {
   "cell_type": "code",
   "execution_count": null,
   "id": "cf1f7a20-4972-4dfa-be00-c5e3f84c08f1",
   "metadata": {},
   "outputs": [],
   "source": [
    "logmodel.fit(X_train,y_train)"
   ]
  },
  {
   "cell_type": "code",
   "execution_count": null,
   "id": "bfc9c1b1-6672-4e5d-afd3-d6fa6485dbb8",
   "metadata": {},
   "outputs": [],
   "source": [
    "y_pred=logmodel.predict(X_test)"
   ]
  },
  {
   "cell_type": "code",
   "execution_count": null,
   "id": "bfd9e90f-31b3-417a-9b14-e1646c2d6051",
   "metadata": {},
   "outputs": [],
   "source": [
    "print(y_pred)"
   ]
  },
  {
   "cell_type": "code",
   "execution_count": null,
   "id": "9aa8327c-ef1f-4a66-8404-abb4dc6fd889",
   "metadata": {},
   "outputs": [],
   "source": [
    "#calculating accuracy of the Classification model\n",
    "from sklearn.metrics import confusion_matrix, accuracy_score\n",
    "log_cm=confusion_matrix(y_test,y_pred)\n",
    "log_ac=accuracy_score(y_test,y_pred)\n"
   ]
  },
  {
   "cell_type": "code",
   "execution_count": null,
   "id": "211f0011-ac45-4662-bdc4-14dcc664b17b",
   "metadata": {},
   "outputs": [],
   "source": [
    "print(log_cm)"
   ]
  },
  {
   "cell_type": "code",
   "execution_count": null,
   "id": "ff50276f-4a82-45df-bc03-396c3f3cb727",
   "metadata": {},
   "outputs": [],
   "source": [
    "print(log_ac*100)"
   ]
  },
  {
   "cell_type": "markdown",
   "id": "7ecffb5a-2f7a-4dad-9dec-152d2a6bde0e",
   "metadata": {},
   "source": [
    "### Decision Tree Algorithm"
   ]
  },
  {
   "cell_type": "code",
   "execution_count": null,
   "id": "1e20563b-ceb7-49d7-8107-6d1b307f4c85",
   "metadata": {},
   "outputs": [],
   "source": [
    "from sklearn.tree import DecisionTreeClassifier\n",
    "tree_classifier=DecisionTreeClassifier()"
   ]
  },
  {
   "cell_type": "code",
   "execution_count": null,
   "id": "41f0d8dd-8820-471d-a5ef-96f64590cd93",
   "metadata": {},
   "outputs": [],
   "source": [
    "tree_classifier.fit(X_train,y_train)"
   ]
  },
  {
   "cell_type": "code",
   "execution_count": null,
   "id": "3af0ffd3-5b96-4d76-9afd-f01c5a16616e",
   "metadata": {},
   "outputs": [],
   "source": [
    "predictions=tree_classifier.predict(X_test)"
   ]
  },
  {
   "cell_type": "code",
   "execution_count": null,
   "id": "01e43b58-9618-4bf7-afcb-a6af1f0ec3c5",
   "metadata": {},
   "outputs": [],
   "source": [
    "from sklearn.metrics import accuracy_score,confusion_matrix\n",
    "dc_cm=confusion_matrix(y_test,predictions)\n",
    "dc_ac=accuracy_score(y_test,predictions)"
   ]
  },
  {
   "cell_type": "code",
   "execution_count": null,
   "id": "6582d9c5-f272-4ca1-abb6-8668dba3e011",
   "metadata": {},
   "outputs": [],
   "source": [
    "print(dc_cm)"
   ]
  },
  {
   "cell_type": "code",
   "execution_count": null,
   "id": "07d017f1-f64e-4cae-ae1b-12891480f21e",
   "metadata": {},
   "outputs": [],
   "source": [
    "print(dc_ac*100)"
   ]
  },
  {
   "cell_type": "markdown",
   "id": "a616b359-c706-4c89-8086-ab464d6487a4",
   "metadata": {},
   "source": [
    "### KNN Algorithm"
   ]
  },
  {
   "cell_type": "code",
   "execution_count": null,
   "id": "d5a35e07-bb9e-4f40-9e4b-eabcb26fb193",
   "metadata": {},
   "outputs": [],
   "source": [
    "#importing KNN Classfier\n",
    "from sklearn.neighbors import KNeighborsClassifier\n",
    "knn=KNeighborsClassifier(n_neighbors=11)"
   ]
  },
  {
   "cell_type": "code",
   "execution_count": null,
   "id": "3eaea608-10b5-429a-8ab8-01696e685090",
   "metadata": {},
   "outputs": [],
   "source": [
    "knn.fit(X_train,y_train)"
   ]
  },
  {
   "cell_type": "code",
   "execution_count": null,
   "id": "3006e2bf-97d6-43c9-b42e-8cf61ccca48c",
   "metadata": {},
   "outputs": [],
   "source": [
    "predictions=knn.predict(X_test)"
   ]
  },
  {
   "cell_type": "code",
   "execution_count": null,
   "id": "6059616d-463b-4ac7-8f9f-3893fecce238",
   "metadata": {},
   "outputs": [],
   "source": [
    "#accuracy\n",
    "from sklearn.metrics import confusion_matrix,accuracy_score\n",
    "knn_cm=confusion_matrix(y_test,predictions)\n",
    "knn_ac=accuracy_score(y_test,predictions)"
   ]
  },
  {
   "cell_type": "code",
   "execution_count": null,
   "id": "e0b8563b-c581-490d-a6a2-b6bcc0d73da7",
   "metadata": {},
   "outputs": [],
   "source": [
    "print(knn_cm)"
   ]
  },
  {
   "cell_type": "code",
   "execution_count": null,
   "id": "701f1667-688e-4864-83a2-957e1179622b",
   "metadata": {},
   "outputs": [],
   "source": [
    "print(knn_ac*100)"
   ]
  },
  {
   "cell_type": "markdown",
   "id": "dcabfe65-9035-4056-8c60-4580f30fb659",
   "metadata": {},
   "source": [
    "### Random Forest Algorithm"
   ]
  },
  {
   "cell_type": "code",
   "execution_count": null,
   "id": "afaee41f-b127-4168-a970-236f21ab1413",
   "metadata": {},
   "outputs": [],
   "source": [
    "from sklearn.ensemble import RandomForestClassifier\n",
    "classifier=RandomForestClassifier()"
   ]
  },
  {
   "cell_type": "code",
   "execution_count": null,
   "id": "6b1bdb35-1018-4a21-8e24-ef458348ed4f",
   "metadata": {},
   "outputs": [],
   "source": [
    "classifier.fit(X_train,y_train)"
   ]
  },
  {
   "cell_type": "code",
   "execution_count": null,
   "id": "a8c04933-f8aa-4d26-b65c-87f1996bb025",
   "metadata": {},
   "outputs": [],
   "source": [
    "y_pred=classifier.predict(X_test)"
   ]
  },
  {
   "cell_type": "code",
   "execution_count": null,
   "id": "f975191a-386b-48e8-89c3-52a0ea3ea30e",
   "metadata": {},
   "outputs": [],
   "source": [
    "from sklearn.metrics import confusion_matrix, accuracy_score\n",
    "rf_cm=confusion_matrix(y_test,y_pred)\n",
    "rf_ac=accuracy_score(y_test,y_pred)"
   ]
  },
  {
   "cell_type": "code",
   "execution_count": null,
   "id": "5f5faad0-a70e-4c91-8c27-8df67086e84a",
   "metadata": {},
   "outputs": [],
   "source": [
    "print(rf_cm)"
   ]
  },
  {
   "cell_type": "code",
   "execution_count": null,
   "id": "09e4c37e-44a7-4403-befd-b885c113da9d",
   "metadata": {},
   "outputs": [],
   "source": [
    "print(rf_ac*100)"
   ]
  },
  {
   "cell_type": "markdown",
   "id": "c2063e56-916c-461f-bf3a-7d42fe6951a4",
   "metadata": {},
   "source": [
    "### Support Vector Machine Algorithm"
   ]
  },
  {
   "cell_type": "code",
   "execution_count": null,
   "id": "437126f8-03d8-4614-9f2f-8761f0c6cd9f",
   "metadata": {},
   "outputs": [],
   "source": [
    "from sklearn.svm import SVC\n",
    "svc_model=SVC()"
   ]
  },
  {
   "cell_type": "code",
   "execution_count": null,
   "id": "ee7d4c0e-b473-4d8f-9f2c-09b4f89c5936",
   "metadata": {},
   "outputs": [],
   "source": [
    "svc_model.fit(X_train,y_train)"
   ]
  },
  {
   "cell_type": "code",
   "execution_count": null,
   "id": "a06d6db9-84a5-420a-95a8-82adda362307",
   "metadata": {},
   "outputs": [],
   "source": [
    "predictions=svc_model.predict(X_test)"
   ]
  },
  {
   "cell_type": "code",
   "execution_count": null,
   "id": "5c0329c5-d8a9-40c3-8ef8-639d8e734d48",
   "metadata": {},
   "outputs": [],
   "source": [
    "from sklearn.metrics import confusion_matrix, accuracy_score\n",
    "svm_cm=confusion_matrix(y_test,predictions)\n",
    "svm_ac=accuracy_score(y_test,predictions)\n"
   ]
  },
  {
   "cell_type": "code",
   "execution_count": null,
   "id": "5c96c4ed-d4f8-4a4d-991a-d38ed15a03ea",
   "metadata": {},
   "outputs": [],
   "source": [
    "print(svm_cm)"
   ]
  },
  {
   "cell_type": "code",
   "execution_count": null,
   "id": "bda56fe6-08da-4baa-85f8-cf981256e55d",
   "metadata": {},
   "outputs": [],
   "source": [
    "print(svm_ac*100)"
   ]
  },
  {
   "cell_type": "code",
   "execution_count": null,
   "id": "def28b05-4c16-4be1-bd36-1a20d5777ad0",
   "metadata": {},
   "outputs": [],
   "source": [
    "data\n"
   ]
  },
  {
   "cell_type": "markdown",
   "id": "08803a5e-4e78-49d9-9754-88477cdbe678",
   "metadata": {},
   "source": [
    "### To find the Minimum and Maximum value of the dataset"
   ]
  },
  {
   "cell_type": "code",
   "execution_count": null,
   "id": "a2ffd95f-d232-46d1-9ede-960a64ed7b66",
   "metadata": {},
   "outputs": [],
   "source": [
    "# For Multiple columns to exclude use,\n",
    "# cols = [x for x in df.columns if x not in ('mpg', 'name')]\n",
    "# cols\n",
    "\n",
    "cols = [X for X in data.columns if X not in ('output')]\n",
    "cols\n",
    "\n",
    "print(\"{\")\n",
    "for i,name in enumerate(cols):\n",
    "    print(f'\"{name}\":{{\"min\":{data[name].min()},\"max\":{data[name].max()}}}{\",\" if i<(len(cols)-1) else \"\"}')\n",
    "print(\"}\")"
   ]
  },
  {
   "cell_type": "code",
   "execution_count": null,
   "id": "64714764-2ad9-44b2-b5df-038719d532cc",
   "metadata": {},
   "outputs": [],
   "source": [
    "# predictions with respect to new dataset\n",
    "data_new = {'age': 30, 'sex': 0, 'cp': 3, 'trtbps': 136, 'chol': 133,\n",
    "            'fbs': 0, 'restecg': 2, 'thalachh': 150, 'exng': 0, 'oldpeak': 2.3,\n",
    "            'slp': 1, 'caa': 3, 'thall': 2}\n",
    "index = [1]  # serial number\n",
    "my_data = pd.DataFrame(data_new, index)"
   ]
  },
  {
   "cell_type": "code",
   "execution_count": null,
   "id": "dc2a4349-5823-4e72-872b-1c3fc8cf7339",
   "metadata": {},
   "outputs": [],
   "source": [
    "\n",
    "medical_details = svc_model.predict(my_data)\n",
    "print(f\" The Heart Attack prediction is :{medical_details}\")"
   ]
  },
  {
   "cell_type": "code",
   "execution_count": null,
   "id": "f80920c5-90ea-4aa7-a64f-021b40c73107",
   "metadata": {},
   "outputs": [],
   "source": [
    "print(f\"logistic regression Accuracy {log_ac*100}\")\n",
    "print(f\"Decision Tree Accuracy {dc_ac*100}\")\n",
    "print(f\"KNN Accuracy {knn_ac*100}\")\n",
    "print(f\"Random Forest Accuracy {rf_ac*100}\")\n",
    "print(f\"Support Vector Machine Accuracy {svm_ac*100}\")"
   ]
  },
  {
   "cell_type": "code",
   "execution_count": null,
   "id": "81edd474-13ad-45de-853d-92bd7b0955bf",
   "metadata": {},
   "outputs": [],
   "source": [
    "if log_ac > dc_ac and log_ac > knn_ac and log_ac > rf_ac and log_ac > svm_ac:\n",
    "    print(f\"Using Algorithm : Logistic Regression with an accuracy {log_ac*100}\")\n",
    "elif dc_ac > log_ac and dc_ac > knn_ac and dc_ac > rf_ac and dc_ac >svm_ac:\n",
    "    print(f\"Using Algorithm : Decision Tree with an accuracy {dc_ac*100}\")\n",
    "elif knn_ac > log_ac and knn_ac > dc_ac and knn_ac > rf_ac and knn_ac > svm_ac:\n",
    "    print(f\"Using Algorithm :K-Nearest Neighbor with an accuracy {knn_ac*100}\")\n",
    "elif rf_ac > log_ac and rf_ac > dc_ac and rf_ac > knn_ac and rf_ac > svm_ac:\n",
    "    print(f\"Using Algorithm :Random Forest with an accuracy {rf_ac*100}\")\n",
    "else:\n",
    "    print(f\"Using Algorithm :Support Vector Machine with an accuracy {svm_ac*100}\")\n",
    "    \n",
    "    \n"
   ]
  },
  {
   "cell_type": "code",
   "execution_count": null,
   "id": "2fbe1097-805d-41ea-99bf-97dabdfbaec2",
   "metadata": {},
   "outputs": [],
   "source": []
  }
 ],
 "metadata": {
  "kernelspec": {
   "display_name": "Python 3 (ipykernel)",
   "language": "python",
   "name": "python3"
  },
  "language_info": {
   "codemirror_mode": {
    "name": "ipython",
    "version": 3
   },
   "file_extension": ".py",
   "mimetype": "text/x-python",
   "name": "python",
   "nbconvert_exporter": "python",
   "pygments_lexer": "ipython3",
   "version": "3.9.12"
  }
 },
 "nbformat": 4,
 "nbformat_minor": 5
}
